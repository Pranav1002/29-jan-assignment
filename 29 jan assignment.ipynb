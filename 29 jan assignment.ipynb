{
 "cells": [
  {
   "cell_type": "code",
   "execution_count": 2,
   "id": "8e86837b-fd8b-4893-a5ae-8a1264e192e5",
   "metadata": {},
   "outputs": [],
   "source": [
    "#1) Guido van Rossum developed python language."
   ]
  },
  {
   "cell_type": "code",
   "execution_count": 3,
   "id": "b3b1437f-2218-4de3-88a2-4b9c1f851dd4",
   "metadata": {},
   "outputs": [],
   "source": [
    "#2) Python supports object oriented, structured and functional programming."
   ]
  },
  {
   "cell_type": "code",
   "execution_count": 4,
   "id": "5c18a3e2-793c-4967-a221-626aa0e94578",
   "metadata": {},
   "outputs": [],
   "source": [
    "#3) Yes, python is case sensitive language."
   ]
  },
  {
   "cell_type": "code",
   "execution_count": 5,
   "id": "9fa1f110-db30-4dc1-9a05-a3bbfcd019f4",
   "metadata": {},
   "outputs": [],
   "source": [
    "#4) THe correct extension for python is .py."
   ]
  },
  {
   "cell_type": "code",
   "execution_count": 6,
   "id": "6aa57a5b-2da4-4c9c-a951-915a9e04e012",
   "metadata": {},
   "outputs": [],
   "source": [
    "#5) Python is interpreted language."
   ]
  },
  {
   "cell_type": "code",
   "execution_count": 7,
   "id": "75907205-8eae-40dd-ae99-8abd30abcd25",
   "metadata": {},
   "outputs": [],
   "source": [
    "#6) Name of blocks of code used to define in python : module, function body, class."
   ]
  },
  {
   "cell_type": "code",
   "execution_count": 8,
   "id": "5d88e2c8-de31-4ec7-9929-5b712250b1ba",
   "metadata": {},
   "outputs": [],
   "source": [
    "#7) '#' is used for single line comment in python."
   ]
  },
  {
   "cell_type": "code",
   "execution_count": 9,
   "id": "d4cced5a-bf0e-45ee-a34e-934e2338419f",
   "metadata": {},
   "outputs": [],
   "source": [
    "#8) Following methods are used to find version of current python language : 1) sys.version 2) python_version 3) python -v"
   ]
  },
  {
   "cell_type": "code",
   "execution_count": 10,
   "id": "df48a50e-07d3-4e89-acbc-e19b920b9163",
   "metadata": {},
   "outputs": [],
   "source": [
    "#9) lambda"
   ]
  },
  {
   "cell_type": "code",
   "execution_count": 11,
   "id": "80fa1a9d-7431-4f9b-88ed-34c1eef5e5fa",
   "metadata": {},
   "outputs": [],
   "source": [
    "#10) Preferred Installer Program"
   ]
  },
  {
   "cell_type": "code",
   "execution_count": 12,
   "id": "059214c0-3afb-42c5-a557-2e1b97436505",
   "metadata": {},
   "outputs": [],
   "source": [
    "#11) Python built-in functions : sum(),str(),repr(),tuple(),vars(),zip() etc..."
   ]
  },
  {
   "cell_type": "code",
   "execution_count": 13,
   "id": "698164d0-77dc-47bf-992b-dcf907d1f6d7",
   "metadata": {},
   "outputs": [],
   "source": [
    "#12) Max. possible lenght of character of an identifier : 79 characters"
   ]
  },
  {
   "cell_type": "code",
   "execution_count": 18,
   "id": "b415f613-cfe8-4044-8e3d-fa651980f2b1",
   "metadata": {},
   "outputs": [],
   "source": [
    "#13) Main benifits of using python\n",
    "    # Data science\n",
    "    # Scientific and mathematical computing\n",
    "    # Web development\n",
    "    # Finance and trading\n",
    "    # System automation and administration\n",
    "    # Computer graphics\n",
    "    # Basic game development\n",
    "    # Security and penetration testing\n",
    "    # General and application-specific scripting\n",
    "    # Mapping and geography (GIS software)"
   ]
  },
  {
   "cell_type": "code",
   "execution_count": 19,
   "id": "d1410ede-3c6c-4ee9-ac76-75f7bfc6b7d9",
   "metadata": {},
   "outputs": [],
   "source": [
    "#14) Memory management in Python involves a private heap containing all Python objects and data structures"
   ]
  },
  {
   "cell_type": "code",
   "execution_count": 20,
   "id": "94be0bd6-0288-4511-9cc0-bffe25343f0e",
   "metadata": {},
   "outputs": [],
   "source": [
    "#15) Steps of install python on windows is given below:\n",
    "#     Right-clicking This PC and going to Properties.\n",
    "\n",
    "#     Clicking on the Advanced system settings in the menu on the left.\n",
    "\n",
    "#     Clicking on the Environment Variables button on the bottom right.\n",
    "\n",
    "#     In the System variables section, selecting the Path variable and clicking on Edit. The next screen will show all the directories that are currently a part of the PATH variable.\n",
    "\n",
    "#     Clicking on New and entering Python’s install directory."
   ]
  },
  {
   "cell_type": "code",
   "execution_count": null,
   "id": "321267c0-6866-44c6-a709-325f9c528762",
   "metadata": {},
   "outputs": [],
   "source": [
    "#16) Yes indentation is required in python."
   ]
  }
 ],
 "metadata": {
  "kernelspec": {
   "display_name": "Python 3 (ipykernel)",
   "language": "python",
   "name": "python3"
  },
  "language_info": {
   "codemirror_mode": {
    "name": "ipython",
    "version": 3
   },
   "file_extension": ".py",
   "mimetype": "text/x-python",
   "name": "python",
   "nbconvert_exporter": "python",
   "pygments_lexer": "ipython3",
   "version": "3.10.8"
  }
 },
 "nbformat": 4,
 "nbformat_minor": 5
}
